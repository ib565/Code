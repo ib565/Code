{
 "cells": [
  {
   "cell_type": "code",
   "execution_count": 2,
   "metadata": {},
   "outputs": [],
   "source": [
    "import numpy as np\n",
    "import nibabel as nib\n",
    "from dipy.io import read_bvals_bvecs\n",
    "from dipy.core.gradients import gradient_table"
   ]
  },
  {
   "cell_type": "code",
   "execution_count": 3,
   "metadata": {},
   "outputs": [],
   "source": [
    "subject_id = \"100206\"\n",
    "subject_path = f\"diffusion_data/{subject_id}/T1w/Diffusion\"\n",
    "dwi_img = nib.load(f'{subject_path}/data.nii.gz')\n",
    "mask_img = nib.load(f'{subject_path}/nodif_brain_mask.nii.gz')"
   ]
  },
  {
   "cell_type": "code",
   "execution_count": 44,
   "metadata": {},
   "outputs": [],
   "source": [
    "# Convert to numpy arrays for processing\n",
    "dwi_data = dwi_img.get_fdata()\n",
    "mask = mask_img.get_fdata() > 0"
   ]
  },
  {
   "cell_type": "code",
   "execution_count": 45,
   "metadata": {},
   "outputs": [
    {
     "name": "stdout",
     "output_type": "stream",
     "text": [
      "DWI data shape: (145, 174, 145, 288)\n",
      "Mask shape: (145, 174, 145)\n"
     ]
    }
   ],
   "source": [
    "print(f\"DWI data shape: {dwi_data.shape}\")  # Should be (X, Y, Z, num_volumes)\n",
    "print(f\"Mask shape: {mask.shape}\")          # Should be (X, Y, Z)"
   ]
  },
  {
   "cell_type": "code",
   "execution_count": 46,
   "metadata": {},
   "outputs": [
    {
     "name": "stdout",
     "output_type": "stream",
     "text": [
      "\n",
      "Loading gradient information...\n",
      "Number of gradient directions: 288\n",
      "bvals shape: (288,)\n",
      "bvecs shape: (288, 3)\n"
     ]
    }
   ],
   "source": [
    "# Load gradient information (bvals and bvecs)\n",
    "print(\"\\nLoading gradient information...\")\n",
    "bvals, bvecs = read_bvals_bvecs(f'{subject_path}/bvals', \n",
    "                               f'{subject_path}/bvecs')\n",
    "print(f\"Number of gradient directions: {len(bvals)}\")\n",
    "print(f\"bvals shape: {bvals.shape}\")     # Should match number of volumes\n",
    "print(f\"bvecs shape: {bvecs.shape}\")     # Should be (num_volumes, 3)"
   ]
  },
  {
   "cell_type": "code",
   "execution_count": 47,
   "metadata": {},
   "outputs": [],
   "source": [
    "# Create gradient table for DIPY\n",
    "gtab = gradient_table(bvals, bvecs)"
   ]
  },
  {
   "cell_type": "code",
   "execution_count": 48,
   "metadata": {},
   "outputs": [
    {
     "name": "stdout",
     "output_type": "stream",
     "text": [
      "Number of b=1000 directions: 90\n",
      "\n",
      "Number of B0 volumes: 18\n",
      "B0 data shape: (145, 174, 145, 18)\n",
      "Average B0 shape: (145, 174, 145)\n"
     ]
    }
   ],
   "source": [
    "# Identify and extract B0 (non-diffusion weighted) volumes\n",
    "b0_mask = gtab.b0s_mask\n",
    "b1000_mask = (bvals >= 990) & (bvals <= 1010)\n",
    "print(f\"Number of b=1000 directions: {np.sum(b1000_mask)}\")\n",
    "\n",
    "b0_data = dwi_data[..., b0_mask]\n",
    "print(f\"\\nNumber of B0 volumes: {np.sum(b0_mask)}\")\n",
    "print(f\"B0 data shape: {b0_data.shape}\")\n",
    "\n",
    "# Average B0 volumes to get a single reference image\n",
    "b0_avg = np.mean(b0_data, axis=-1)\n",
    "print(f\"Average B0 shape: {b0_avg.shape}\")"
   ]
  },
  {
   "cell_type": "code",
   "execution_count": 49,
   "metadata": {},
   "outputs": [
    {
     "name": "stdout",
     "output_type": "stream",
     "text": [
      "\n",
      "Number of b1000 DWI volumes: 90\n",
      "DWI volumes shape: (145, 174, 145, 90)\n"
     ]
    }
   ],
   "source": [
    "# Extract and normalize diffusion weighted volumes\n",
    "dwi_vols = dwi_data[..., b1000_mask]\n",
    "print(f\"\\nNumber of b1000 DWI volumes: {np.sum(b1000_mask)}\")\n",
    "print(f\"DWI volumes shape: {dwi_vols.shape}\")"
   ]
  },
  {
   "cell_type": "code",
   "execution_count": 50,
   "metadata": {},
   "outputs": [],
   "source": [
    "# Maybe mask out voxels with very low b0 signal\n",
    "b0_threshold = 250  # or some suitable threshold\n",
    "valid_b0_mask = b0_avg > b0_threshold\n",
    "mask = mask & valid_b0_mask  # Combine with brain mask"
   ]
  },
  {
   "cell_type": "code",
   "execution_count": 51,
   "metadata": {},
   "outputs": [
    {
     "name": "stdout",
     "output_type": "stream",
     "text": [
      "\n",
      "Number of valid voxels in mask: 926671\n"
     ]
    }
   ],
   "source": [
    "# Find valid voxels using the brain mask\n",
    "valid_idx = np.where(mask)\n",
    "print(f\"\\nNumber of valid voxels in mask: {len(valid_idx[0])}\")"
   ]
  },
  {
   "cell_type": "code",
   "execution_count": 52,
   "metadata": {},
   "outputs": [],
   "source": [
    "# Sample random voxels for training\n",
    "n_samples = 100000  # Adjust this number based on your needs\n",
    "sample_idx = np.random.choice(len(valid_idx[0]), \n",
    "                            min(n_samples, len(valid_idx[0])), \n",
    "                            replace=False)"
   ]
  },
  {
   "cell_type": "code",
   "execution_count": 53,
   "metadata": {},
   "outputs": [],
   "source": [
    "# Extract features (signal intensities) from sampled voxels\n",
    "features = []\n",
    "for idx in sample_idx:\n",
    "    x, y, z = valid_idx[0][idx], valid_idx[1][idx], valid_idx[2][idx]\n",
    "    signal = dwi_vols[x, y, z, :]\n",
    "    b0_ref = b0_avg[x, y, z]\n",
    "    normalized_signal = signal / (b0_ref + 1e-6)\n",
    "    features.append(normalized_signal)"
   ]
  },
  {
   "cell_type": "code",
   "execution_count": 54,
   "metadata": {},
   "outputs": [],
   "source": [
    "features = np.array(features)\n",
    "gradient_directions = bvecs[b1000_mask]  # Only keep directions for DWI volumes"
   ]
  },
  {
   "cell_type": "code",
   "execution_count": 55,
   "metadata": {},
   "outputs": [
    {
     "name": "stdout",
     "output_type": "stream",
     "text": [
      "\n",
      "Final data shapes:\n",
      "Features shape: (100000, 90)\n",
      "Gradient directions shape: (90, 3)\n",
      "\n",
      "Sanity checks:\n",
      "Max normalized value: 3.5793931465677726\n",
      "Min normalized value: 0.0\n",
      "Gradient directions magnitude close to 1: True\n"
     ]
    }
   ],
   "source": [
    "print(\"\\nFinal data shapes:\")\n",
    "print(f\"Features shape: {features.shape}\")           # Should be (n_samples, n_directions)\n",
    "print(f\"Gradient directions shape: {gradient_directions.shape}\")  # Should be (n_directions, 3)\n",
    "\n",
    "# Basic sanity checks\n",
    "print(\"\\nSanity checks:\")\n",
    "print(f\"Max normalized value: {np.max(features)}\")\n",
    "print(f\"Min normalized value: {np.min(features)}\")\n",
    "print(f\"Gradient directions magnitude close to 1: {np.allclose(np.linalg.norm(gradient_directions, axis=1), 1, atol=1e-3)}\")"
   ]
  },
  {
   "cell_type": "code",
   "execution_count": 56,
   "metadata": {},
   "outputs": [
    {
     "name": "stdout",
     "output_type": "stream",
     "text": [
      "Loading ground truth data...\n",
      "Ground truth tensors shape: (936256, 6)\n",
      "Valid coordinates shape: (936256, 3)\n"
     ]
    }
   ],
   "source": [
    "print(\"Loading ground truth data...\")\n",
    "gt_data = np.load('ground_truth.npz')\n",
    "ground_truth_tensors = gt_data['tensors']\n",
    "# ground_truth_tensors = torch.tensor(ground_truth_tensors, dtype=torch.float32)\n",
    "valid_coordinates = gt_data['coordinates']\n",
    "print(f\"Ground truth tensors shape: {ground_truth_tensors.shape}\")\n",
    "print(f\"Valid coordinates shape: {valid_coordinates.shape}\")"
   ]
  },
  {
   "cell_type": "code",
   "execution_count": 78,
   "metadata": {},
   "outputs": [],
   "source": [
    "# Number of directions to use for sparse estimation\n",
    "n_directions = 21  # We can adjust this number\n",
    "\n",
    "def create_graph_data(features, gradient_directions, n_sparse_directions, batch_size = 32, threshold_angle = 60):\n",
    "    \"\"\"\n",
    "    Create graph data for a batch of samples, including ground tensor\n",
    "    \"\"\"\n",
    "    voxel_indices = np.random.choice(len(features), size = batch_size, replace = False)\n",
    "    # print(f\"Creating graphs for batch of {batch_size} voxels using {n_sparse_directions} directions each\")\n",
    "\n",
    "    batch_nodes = []\n",
    "    batch_edges = []\n",
    "    batch_tensors = []\n",
    "    batch_edge_weights = []  \n",
    "\n",
    "    for idx in voxel_indices:\n",
    "        # Randomly selected directions\n",
    "        selected_dir_idx = np.random.choice(len(gradient_directions), size=n_sparse_directions, replace=False)\n",
    "\n",
    "        directions = gradient_directions[selected_dir_idx]\n",
    "        signals = features[idx, selected_dir_idx]\n",
    "        \n",
    "        # Create edges acc. to angle\n",
    "        directions_norm = directions / np.linalg.norm(directions, axis=1, keepdims=True)\n",
    "        cos_sim = np.dot(directions_norm, directions_norm.T)\n",
    "        angles = np.arccos(np.clip(cos_sim, -1.0, 1.0)) * 180/np.pi\n",
    "        \n",
    "        src, dst = np.where(angles < threshold_angle)\n",
    "        mask = src != dst\n",
    "        edges = np.column_stack([src[mask], dst[mask]])\n",
    "\n",
    "        weights = cos_sim[src[mask], dst[mask]]\n",
    "\n",
    "        nodes = signals.reshape(-1, 1)\n",
    "        batch_nodes.append(nodes)\n",
    "        batch_edges.append(edges)\n",
    "        batch_edge_weights.append(weights)\n",
    "        batch_tensors.append(ground_truth_tensors[idx])\n",
    "        \n",
    "    return batch_nodes, batch_edges, batch_edge_weights, batch_tensors\n",
    "\n",
    "# nodes, edges, gt_tensors = create_graph_data(features, gradient_directions, n_directions)\n",
    "# # Print info for verification\n",
    "# print(\"\\nBatch statistics:\")\n",
    "# print(f\"Number of samples in batch: {len(nodes)}\")\n",
    "# print(f\"Number of nodes per graph: {nodes[0].shape[0]}\")\n",
    "# print(f\"Node feature dimensionality: {nodes[0].shape[1]}\")\n",
    "# print(f\"Ground truth tensors: {len(gt_tensors)}\")\n",
    "\n",
    "# # Print example for first sample\n",
    "# print(\"\\nFirst sample in batch:\")\n",
    "# print(f\"Number of nodes: {nodes[0].shape[0]}\")\n",
    "# print(f\"Number of edges: {edges[0].shape[0]}\")\n",
    "# print(f\"Ground truth tensor components: {gt_tensors[0]}\")"
   ]
  },
  {
   "cell_type": "code",
   "execution_count": 58,
   "metadata": {},
   "outputs": [],
   "source": [
    "import torch\n",
    "import torch.nn as nn\n",
    "import torch.nn.functional as F\n",
    "from torch_geometric.nn import MessagePassing\n",
    "from torch_geometric.nn import global_mean_pool\n",
    "import torch.optim as optim\n",
    "from torch_geometric.data import Data, Batch\n",
    "from sklearn.model_selection import train_test_split"
   ]
  },
  {
   "cell_type": "code",
   "execution_count": 70,
   "metadata": {},
   "outputs": [],
   "source": [
    "class DiffusionGNN(torch.nn.Module):\n",
    "    def __init__(self, node_features = 1, hidden_dim = 128):\n",
    "        super(DiffusionGNN, self).__init__()\n",
    "    \n",
    "        # Layers\n",
    "        self.conv1 = DiffusionConv(node_features, hidden_dim)\n",
    "        self.conv2 = DiffusionConv(hidden_dim, hidden_dim)\n",
    "\n",
    "        # MLP for tensor prediction\n",
    "        self.mlp = nn.Sequential(\n",
    "            nn.Linear(hidden_dim, hidden_dim),\n",
    "            nn.ReLU(),\n",
    "            nn.Linear(hidden_dim, hidden_dim),\n",
    "            nn.ReLU(),\n",
    "            nn.Linear(hidden_dim, 6),\n",
    "        )\n",
    "\n",
    "        self.scale_net = nn.Sequential(\n",
    "            nn.Linear(hidden_dim, 1),\n",
    "            nn.Sigmoid()\n",
    "        )\n",
    "\n",
    "    \n",
    "    def forward(self, x, edge_index, edge_attr, batch):\n",
    "        \"\"\"\n",
    "        x: node_features\n",
    "        edge_index = graph conn info [2, num_edges]\n",
    "        batch: batch assignment for nodes\n",
    "        \"\"\"\n",
    "        # pass through gnn layers\n",
    "        x = self.conv1(x, edge_index, edge_attr)\n",
    "        x = F.relu(x)\n",
    "        x = self.conv2(x, edge_index, edge_attr)\n",
    "        x = F.relu(x)\n",
    "\n",
    "        # combine node features for graph\n",
    "        x = global_mean_pool(x, batch)  # [batch_size, hidden_dim]\n",
    "\n",
    "        # raw predictions\n",
    "        out = self.mlp(x)\n",
    "\n",
    "        scale = self.scale_net(x)\n",
    "        \n",
    "        diag_idx = [0, 2, 5]\n",
    "        diag = out[:, diag_idx]\n",
    "\n",
    "        offdiag_idx = [1, 3, 4]\n",
    "        offdiag = out[:, offdiag_idx]\n",
    "\n",
    "        # Diagonal elements: [0,1] using sigmoid\n",
    "        diag = torch.sigmoid(diag)\n",
    "        \n",
    "        # Off-diagonal elements: [-1,1] using tanh\n",
    "        offdiag = torch.tanh(offdiag)\n",
    "\n",
    "        out_reordered = torch.zeros_like(out)\n",
    "        out_reordered[:, diag_idx] = diag\n",
    "        out_reordered[:, offdiag_idx] = offdiag\n",
    "        \n",
    "        return out_reordered * scale\n",
    "\n",
    "\n",
    "class DiffusionConv(MessagePassing):\n",
    "    def __init__(self, in_channels, out_channels):\n",
    "        super(DiffusionConv, self).__init__(aggr=\"mean\")\n",
    "        \n",
    "        # MLP to process messages\n",
    "        self.mlp = nn.Sequential(\n",
    "            nn.Linear(2 * in_channels, out_channels),\n",
    "            nn.ReLU(),\n",
    "            nn.Linear(out_channels, out_channels)\n",
    "        )\n",
    "    \n",
    "    def forward(self, x, edge_index, edge_weight):\n",
    "        return self.propagate(edge_index, x=x, edge_weight = edge_weight)\n",
    "    \n",
    "    def message(self, x_i, x_j, edge_weight):\n",
    "        \"\"\"\n",
    "        x_i: features of target nodes\n",
    "        x_j: features of source nodes\n",
    "        Returns: messages to be aggregated\n",
    "        \"\"\"\n",
    "        tmp = torch.cat([x_i, x_j], dim = 1)\n",
    "        return self.mlp(tmp) * edge_weight.view(-1,1)"
   ]
  },
  {
   "cell_type": "code",
   "execution_count": 74,
   "metadata": {},
   "outputs": [],
   "source": [
    "def convert_to_torch_geometric(nodes, edges, edge_weights, tensors):\n",
    "    data_list = []\n",
    "    for i in range(len(nodes)):\n",
    "        # Ensure tensor is properly shaped [6] not flattened\n",
    "        tensor = tensors[i].reshape(-1, 6) if len(tensors[i].shape) == 1 else tensors[i]\n",
    "        \n",
    "        data = Data(\n",
    "            x=torch.FloatTensor(nodes[i]),          # [n_nodes, 4]\n",
    "            edge_index=torch.LongTensor(edges[i].T), # [2, n_edges]\n",
    "            edge_attr=torch.FloatTensor(edge_weights[i]),\n",
    "            y=torch.FloatTensor(tensor)             # [1, 6]\n",
    "        )\n",
    "        data_list.append(data)\n",
    "    return data_list"
   ]
  },
  {
   "cell_type": "code",
   "execution_count": 65,
   "metadata": {},
   "outputs": [
    {
     "name": "stdout",
     "output_type": "stream",
     "text": [
      "Training with 80000 voxels, testing with 20000 voxels\n"
     ]
    }
   ],
   "source": [
    "train_idx, test_idx = train_test_split(np.arange(len(features)), test_size=0.2, random_state=42)\n",
    "print(f\"Training with {len(train_idx)} voxels, testing with {len(test_idx)} voxels\")"
   ]
  },
  {
   "cell_type": "code",
   "execution_count": 83,
   "metadata": {},
   "outputs": [
    {
     "name": "stdout",
     "output_type": "stream",
     "text": [
      "Using device: cuda\n"
     ]
    }
   ],
   "source": [
    "device = torch.device('cuda' if torch.cuda.is_available() else 'cpu')\n",
    "print(f\"Using device: {device}\")"
   ]
  },
  {
   "cell_type": "code",
   "execution_count": 84,
   "metadata": {},
   "outputs": [],
   "source": [
    "means = torch.tensor([6.67e-4, -1.48e-6, 6.93e-4, 8.52e-8, -1.75e-5, 6.75e-4]).to(device)\n",
    "stds = torch.tensor([4.27e-4, 8.80e-5, 4.32e-4, 9.10e-5, 9.18e-5, 4.36e-4]).to(device)\n",
    "\n",
    "def normalize_components(tensor):\n",
    "    \"\"\"\n",
    "    Normalize each component of the tensor using provided means and standard deviations.\n",
    "\n",
    "    Args:\n",
    "        tensor (torch.Tensor): Input tensor of shape (batch_size, num_components).\n",
    "        means (torch.Tensor): Mean of each component.\n",
    "        stds (torch.Tensor): Std deviation of each component.\n",
    "\n",
    "    Returns:\n",
    "        torch.Tensor: Normalized tensor.\n",
    "    \"\"\"\n",
    "    return (tensor - means) / stds"
   ]
  },
  {
   "cell_type": "code",
   "execution_count": null,
   "metadata": {},
   "outputs": [
    {
     "name": "stdout",
     "output_type": "stream",
     "text": [
      "Starting training...\n",
      "\n",
      "Epoch 1 Statistics:\n",
      "\n",
      "Predictions per component:\n",
      "Component 0: min=1.89e-01, max=1.90e-01, mean=1.89e-01, std=8.68e-05\n",
      "Component 1: min=-2.03e-03, max=-1.96e-03, mean=-1.99e-03, std=1.94e-05\n",
      "Component 2: min=1.89e-01, max=1.89e-01, mean=1.89e-01, std=8.07e-05\n",
      "Component 3: min=2.93e-04, max=3.50e-04, mean=3.23e-04, std=1.24e-05\n",
      "Component 4: min=-5.94e-04, max=-5.27e-04, mean=-5.56e-04, std=1.67e-05\n",
      "Component 5: min=1.92e-01, max=1.92e-01, mean=1.92e-01, std=7.34e-05\n",
      "\n",
      "Ground Truth per component:\n",
      "Component 0: min=1.62e-04, max=5.48e-04, mean=3.04e-04, std=9.81e-05\n",
      "Component 1: min=-4.25e-05, max=4.70e-05, mean=-1.67e-06, std=2.24e-05\n",
      "Component 2: min=1.67e-04, max=4.85e-04, mean=3.20e-04, std=9.22e-05\n",
      "Component 3: min=-1.88e-05, max=4.25e-05, mean=1.49e-05, std=1.61e-05\n",
      "Component 4: min=-6.59e-05, max=2.80e-05, mean=-1.14e-05, std=2.10e-05\n",
      "Component 5: min=1.43e-04, max=4.65e-04, mean=2.95e-04, std=8.37e-05\n",
      "\n",
      "Relative Error per component:\n",
      "Component 0: 6.95e+02\n",
      "Component 1: 2.88e+02\n",
      "Component 2: 6.48e+02\n",
      "Component 3: 1.76e+02\n",
      "Component 4: 7.70e+01\n",
      "Component 5: 7.13e+02\n",
      "Epoch 1/10, Loss: 246.563532\n",
      "\n",
      "Epoch 2 Statistics:\n",
      "\n",
      "Predictions per component:\n",
      "Component 0: min=9.83e-02, max=9.87e-02, mean=9.85e-02, std=8.98e-05\n",
      "Component 1: min=-1.42e-03, max=-1.33e-03, mean=-1.38e-03, std=2.07e-05\n",
      "Component 2: min=9.45e-02, max=9.48e-02, mean=9.47e-02, std=8.50e-05\n",
      "Component 3: min=3.37e-05, max=1.00e-04, mean=6.39e-05, std=1.61e-05\n",
      "Component 4: min=9.43e-04, max=1.03e-03, mean=9.81e-04, std=2.05e-05\n",
      "Component 5: min=9.24e-02, max=9.27e-02, mean=9.25e-02, std=7.71e-05\n",
      "\n",
      "Ground Truth per component:\n",
      "Component 0: min=1.62e-04, max=5.48e-04, mean=3.04e-04, std=9.81e-05\n",
      "Component 1: min=-4.25e-05, max=4.70e-05, mean=-1.67e-06, std=2.24e-05\n",
      "Component 2: min=1.67e-04, max=4.85e-04, mean=3.20e-04, std=9.22e-05\n",
      "Component 3: min=-1.88e-05, max=4.25e-05, mean=1.49e-05, std=1.61e-05\n",
      "Component 4: min=-6.59e-05, max=2.80e-05, mean=-1.14e-05, std=2.10e-05\n",
      "Component 5: min=1.43e-04, max=4.65e-04, mean=2.95e-04, std=8.37e-05\n",
      "\n",
      "Relative Error per component:\n",
      "Component 0: 3.61e+02\n",
      "Component 1: 1.99e+02\n",
      "Component 2: 3.23e+02\n",
      "Component 3: 2.81e+01\n",
      "Component 4: 1.38e+02\n",
      "Component 5: 3.43e+02\n",
      "Epoch 2/10, Loss: 34.093233\n"
     ]
    },
    {
     "ename": "KeyboardInterrupt",
     "evalue": "",
     "output_type": "error",
     "traceback": [
      "\u001b[1;31m---------------------------------------------------------------------------\u001b[0m",
      "\u001b[1;31mKeyboardInterrupt\u001b[0m                         Traceback (most recent call last)",
      "Cell \u001b[1;32mIn[86], line 33\u001b[0m\n\u001b[0;32m     31\u001b[0m \u001b[38;5;66;03m# Training step\u001b[39;00m\n\u001b[0;32m     32\u001b[0m optimizer\u001b[38;5;241m.\u001b[39mzero_grad()\n\u001b[1;32m---> 33\u001b[0m pred \u001b[38;5;241m=\u001b[39m model(batch_data\u001b[38;5;241m.\u001b[39mx, batch_data\u001b[38;5;241m.\u001b[39medge_index, batch_data\u001b[38;5;241m.\u001b[39medge_attr, batch_data\u001b[38;5;241m.\u001b[39mbatch)\n\u001b[0;32m     34\u001b[0m y_true \u001b[38;5;241m=\u001b[39m batch_data\u001b[38;5;241m.\u001b[39my\n\u001b[0;32m     36\u001b[0m y_true_norm \u001b[38;5;241m=\u001b[39m normalize_components(y_true)\n",
      "File \u001b[1;32mc:\\Users\\ishui\\anaconda3\\envs\\neuro\\Lib\\site-packages\\torch\\nn\\modules\\module.py:1736\u001b[0m, in \u001b[0;36mModule._wrapped_call_impl\u001b[1;34m(self, *args, **kwargs)\u001b[0m\n\u001b[0;32m   1734\u001b[0m     \u001b[38;5;28;01mreturn\u001b[39;00m \u001b[38;5;28mself\u001b[39m\u001b[38;5;241m.\u001b[39m_compiled_call_impl(\u001b[38;5;241m*\u001b[39margs, \u001b[38;5;241m*\u001b[39m\u001b[38;5;241m*\u001b[39mkwargs)  \u001b[38;5;66;03m# type: ignore[misc]\u001b[39;00m\n\u001b[0;32m   1735\u001b[0m \u001b[38;5;28;01melse\u001b[39;00m:\n\u001b[1;32m-> 1736\u001b[0m     \u001b[38;5;28;01mreturn\u001b[39;00m \u001b[38;5;28mself\u001b[39m\u001b[38;5;241m.\u001b[39m_call_impl(\u001b[38;5;241m*\u001b[39margs, \u001b[38;5;241m*\u001b[39m\u001b[38;5;241m*\u001b[39mkwargs)\n",
      "File \u001b[1;32mc:\\Users\\ishui\\anaconda3\\envs\\neuro\\Lib\\site-packages\\torch\\nn\\modules\\module.py:1747\u001b[0m, in \u001b[0;36mModule._call_impl\u001b[1;34m(self, *args, **kwargs)\u001b[0m\n\u001b[0;32m   1742\u001b[0m \u001b[38;5;66;03m# If we don't have any hooks, we want to skip the rest of the logic in\u001b[39;00m\n\u001b[0;32m   1743\u001b[0m \u001b[38;5;66;03m# this function, and just call forward.\u001b[39;00m\n\u001b[0;32m   1744\u001b[0m \u001b[38;5;28;01mif\u001b[39;00m \u001b[38;5;129;01mnot\u001b[39;00m (\u001b[38;5;28mself\u001b[39m\u001b[38;5;241m.\u001b[39m_backward_hooks \u001b[38;5;129;01mor\u001b[39;00m \u001b[38;5;28mself\u001b[39m\u001b[38;5;241m.\u001b[39m_backward_pre_hooks \u001b[38;5;129;01mor\u001b[39;00m \u001b[38;5;28mself\u001b[39m\u001b[38;5;241m.\u001b[39m_forward_hooks \u001b[38;5;129;01mor\u001b[39;00m \u001b[38;5;28mself\u001b[39m\u001b[38;5;241m.\u001b[39m_forward_pre_hooks\n\u001b[0;32m   1745\u001b[0m         \u001b[38;5;129;01mor\u001b[39;00m _global_backward_pre_hooks \u001b[38;5;129;01mor\u001b[39;00m _global_backward_hooks\n\u001b[0;32m   1746\u001b[0m         \u001b[38;5;129;01mor\u001b[39;00m _global_forward_hooks \u001b[38;5;129;01mor\u001b[39;00m _global_forward_pre_hooks):\n\u001b[1;32m-> 1747\u001b[0m     \u001b[38;5;28;01mreturn\u001b[39;00m forward_call(\u001b[38;5;241m*\u001b[39margs, \u001b[38;5;241m*\u001b[39m\u001b[38;5;241m*\u001b[39mkwargs)\n\u001b[0;32m   1749\u001b[0m result \u001b[38;5;241m=\u001b[39m \u001b[38;5;28;01mNone\u001b[39;00m\n\u001b[0;32m   1750\u001b[0m called_always_called_hooks \u001b[38;5;241m=\u001b[39m \u001b[38;5;28mset\u001b[39m()\n",
      "Cell \u001b[1;32mIn[70], line 40\u001b[0m, in \u001b[0;36mDiffusionGNN.forward\u001b[1;34m(self, x, edge_index, edge_attr, batch)\u001b[0m\n\u001b[0;32m     37\u001b[0m x \u001b[38;5;241m=\u001b[39m global_mean_pool(x, batch)  \u001b[38;5;66;03m# [batch_size, hidden_dim]\u001b[39;00m\n\u001b[0;32m     39\u001b[0m \u001b[38;5;66;03m# raw predictions\u001b[39;00m\n\u001b[1;32m---> 40\u001b[0m out \u001b[38;5;241m=\u001b[39m \u001b[38;5;28mself\u001b[39m\u001b[38;5;241m.\u001b[39mmlp(x)\n\u001b[0;32m     42\u001b[0m scale \u001b[38;5;241m=\u001b[39m \u001b[38;5;28mself\u001b[39m\u001b[38;5;241m.\u001b[39mscale_net(x)\n\u001b[0;32m     44\u001b[0m diag_idx \u001b[38;5;241m=\u001b[39m [\u001b[38;5;241m0\u001b[39m, \u001b[38;5;241m2\u001b[39m, \u001b[38;5;241m5\u001b[39m]\n",
      "File \u001b[1;32mc:\\Users\\ishui\\anaconda3\\envs\\neuro\\Lib\\site-packages\\torch\\nn\\modules\\module.py:1736\u001b[0m, in \u001b[0;36mModule._wrapped_call_impl\u001b[1;34m(self, *args, **kwargs)\u001b[0m\n\u001b[0;32m   1734\u001b[0m     \u001b[38;5;28;01mreturn\u001b[39;00m \u001b[38;5;28mself\u001b[39m\u001b[38;5;241m.\u001b[39m_compiled_call_impl(\u001b[38;5;241m*\u001b[39margs, \u001b[38;5;241m*\u001b[39m\u001b[38;5;241m*\u001b[39mkwargs)  \u001b[38;5;66;03m# type: ignore[misc]\u001b[39;00m\n\u001b[0;32m   1735\u001b[0m \u001b[38;5;28;01melse\u001b[39;00m:\n\u001b[1;32m-> 1736\u001b[0m     \u001b[38;5;28;01mreturn\u001b[39;00m \u001b[38;5;28mself\u001b[39m\u001b[38;5;241m.\u001b[39m_call_impl(\u001b[38;5;241m*\u001b[39margs, \u001b[38;5;241m*\u001b[39m\u001b[38;5;241m*\u001b[39mkwargs)\n",
      "File \u001b[1;32mc:\\Users\\ishui\\anaconda3\\envs\\neuro\\Lib\\site-packages\\torch\\nn\\modules\\module.py:1747\u001b[0m, in \u001b[0;36mModule._call_impl\u001b[1;34m(self, *args, **kwargs)\u001b[0m\n\u001b[0;32m   1742\u001b[0m \u001b[38;5;66;03m# If we don't have any hooks, we want to skip the rest of the logic in\u001b[39;00m\n\u001b[0;32m   1743\u001b[0m \u001b[38;5;66;03m# this function, and just call forward.\u001b[39;00m\n\u001b[0;32m   1744\u001b[0m \u001b[38;5;28;01mif\u001b[39;00m \u001b[38;5;129;01mnot\u001b[39;00m (\u001b[38;5;28mself\u001b[39m\u001b[38;5;241m.\u001b[39m_backward_hooks \u001b[38;5;129;01mor\u001b[39;00m \u001b[38;5;28mself\u001b[39m\u001b[38;5;241m.\u001b[39m_backward_pre_hooks \u001b[38;5;129;01mor\u001b[39;00m \u001b[38;5;28mself\u001b[39m\u001b[38;5;241m.\u001b[39m_forward_hooks \u001b[38;5;129;01mor\u001b[39;00m \u001b[38;5;28mself\u001b[39m\u001b[38;5;241m.\u001b[39m_forward_pre_hooks\n\u001b[0;32m   1745\u001b[0m         \u001b[38;5;129;01mor\u001b[39;00m _global_backward_pre_hooks \u001b[38;5;129;01mor\u001b[39;00m _global_backward_hooks\n\u001b[0;32m   1746\u001b[0m         \u001b[38;5;129;01mor\u001b[39;00m _global_forward_hooks \u001b[38;5;129;01mor\u001b[39;00m _global_forward_pre_hooks):\n\u001b[1;32m-> 1747\u001b[0m     \u001b[38;5;28;01mreturn\u001b[39;00m forward_call(\u001b[38;5;241m*\u001b[39margs, \u001b[38;5;241m*\u001b[39m\u001b[38;5;241m*\u001b[39mkwargs)\n\u001b[0;32m   1749\u001b[0m result \u001b[38;5;241m=\u001b[39m \u001b[38;5;28;01mNone\u001b[39;00m\n\u001b[0;32m   1750\u001b[0m called_always_called_hooks \u001b[38;5;241m=\u001b[39m \u001b[38;5;28mset\u001b[39m()\n",
      "File \u001b[1;32mc:\\Users\\ishui\\anaconda3\\envs\\neuro\\Lib\\site-packages\\torch\\nn\\modules\\container.py:250\u001b[0m, in \u001b[0;36mSequential.forward\u001b[1;34m(self, input)\u001b[0m\n\u001b[0;32m    248\u001b[0m \u001b[38;5;28;01mdef\u001b[39;00m \u001b[38;5;21mforward\u001b[39m(\u001b[38;5;28mself\u001b[39m, \u001b[38;5;28minput\u001b[39m):\n\u001b[0;32m    249\u001b[0m     \u001b[38;5;28;01mfor\u001b[39;00m module \u001b[38;5;129;01min\u001b[39;00m \u001b[38;5;28mself\u001b[39m:\n\u001b[1;32m--> 250\u001b[0m         \u001b[38;5;28minput\u001b[39m \u001b[38;5;241m=\u001b[39m module(\u001b[38;5;28minput\u001b[39m)\n\u001b[0;32m    251\u001b[0m     \u001b[38;5;28;01mreturn\u001b[39;00m \u001b[38;5;28minput\u001b[39m\n",
      "File \u001b[1;32mc:\\Users\\ishui\\anaconda3\\envs\\neuro\\Lib\\site-packages\\torch\\nn\\modules\\module.py:1736\u001b[0m, in \u001b[0;36mModule._wrapped_call_impl\u001b[1;34m(self, *args, **kwargs)\u001b[0m\n\u001b[0;32m   1734\u001b[0m     \u001b[38;5;28;01mreturn\u001b[39;00m \u001b[38;5;28mself\u001b[39m\u001b[38;5;241m.\u001b[39m_compiled_call_impl(\u001b[38;5;241m*\u001b[39margs, \u001b[38;5;241m*\u001b[39m\u001b[38;5;241m*\u001b[39mkwargs)  \u001b[38;5;66;03m# type: ignore[misc]\u001b[39;00m\n\u001b[0;32m   1735\u001b[0m \u001b[38;5;28;01melse\u001b[39;00m:\n\u001b[1;32m-> 1736\u001b[0m     \u001b[38;5;28;01mreturn\u001b[39;00m \u001b[38;5;28mself\u001b[39m\u001b[38;5;241m.\u001b[39m_call_impl(\u001b[38;5;241m*\u001b[39margs, \u001b[38;5;241m*\u001b[39m\u001b[38;5;241m*\u001b[39mkwargs)\n",
      "File \u001b[1;32mc:\\Users\\ishui\\anaconda3\\envs\\neuro\\Lib\\site-packages\\torch\\nn\\modules\\module.py:1747\u001b[0m, in \u001b[0;36mModule._call_impl\u001b[1;34m(self, *args, **kwargs)\u001b[0m\n\u001b[0;32m   1742\u001b[0m \u001b[38;5;66;03m# If we don't have any hooks, we want to skip the rest of the logic in\u001b[39;00m\n\u001b[0;32m   1743\u001b[0m \u001b[38;5;66;03m# this function, and just call forward.\u001b[39;00m\n\u001b[0;32m   1744\u001b[0m \u001b[38;5;28;01mif\u001b[39;00m \u001b[38;5;129;01mnot\u001b[39;00m (\u001b[38;5;28mself\u001b[39m\u001b[38;5;241m.\u001b[39m_backward_hooks \u001b[38;5;129;01mor\u001b[39;00m \u001b[38;5;28mself\u001b[39m\u001b[38;5;241m.\u001b[39m_backward_pre_hooks \u001b[38;5;129;01mor\u001b[39;00m \u001b[38;5;28mself\u001b[39m\u001b[38;5;241m.\u001b[39m_forward_hooks \u001b[38;5;129;01mor\u001b[39;00m \u001b[38;5;28mself\u001b[39m\u001b[38;5;241m.\u001b[39m_forward_pre_hooks\n\u001b[0;32m   1745\u001b[0m         \u001b[38;5;129;01mor\u001b[39;00m _global_backward_pre_hooks \u001b[38;5;129;01mor\u001b[39;00m _global_backward_hooks\n\u001b[0;32m   1746\u001b[0m         \u001b[38;5;129;01mor\u001b[39;00m _global_forward_hooks \u001b[38;5;129;01mor\u001b[39;00m _global_forward_pre_hooks):\n\u001b[1;32m-> 1747\u001b[0m     \u001b[38;5;28;01mreturn\u001b[39;00m forward_call(\u001b[38;5;241m*\u001b[39margs, \u001b[38;5;241m*\u001b[39m\u001b[38;5;241m*\u001b[39mkwargs)\n\u001b[0;32m   1749\u001b[0m result \u001b[38;5;241m=\u001b[39m \u001b[38;5;28;01mNone\u001b[39;00m\n\u001b[0;32m   1750\u001b[0m called_always_called_hooks \u001b[38;5;241m=\u001b[39m \u001b[38;5;28mset\u001b[39m()\n",
      "File \u001b[1;32mc:\\Users\\ishui\\anaconda3\\envs\\neuro\\Lib\\site-packages\\torch\\nn\\modules\\linear.py:125\u001b[0m, in \u001b[0;36mLinear.forward\u001b[1;34m(self, input)\u001b[0m\n\u001b[0;32m    124\u001b[0m \u001b[38;5;28;01mdef\u001b[39;00m \u001b[38;5;21mforward\u001b[39m(\u001b[38;5;28mself\u001b[39m, \u001b[38;5;28minput\u001b[39m: Tensor) \u001b[38;5;241m-\u001b[39m\u001b[38;5;241m>\u001b[39m Tensor:\n\u001b[1;32m--> 125\u001b[0m     \u001b[38;5;28;01mreturn\u001b[39;00m F\u001b[38;5;241m.\u001b[39mlinear(\u001b[38;5;28minput\u001b[39m, \u001b[38;5;28mself\u001b[39m\u001b[38;5;241m.\u001b[39mweight, \u001b[38;5;28mself\u001b[39m\u001b[38;5;241m.\u001b[39mbias)\n",
      "\u001b[1;31mKeyboardInterrupt\u001b[0m: "
     ]
    }
   ],
   "source": [
    "# Training\n",
    "model = DiffusionGNN(node_features=1, hidden_dim=128).to(device)\n",
    "optimizer = optim.Adam(model.parameters(), lr=0.0005)\n",
    "batch_size = 32\n",
    "epochs = 10\n",
    "\n",
    "all_pred_values = [[] for _ in range(6)]\n",
    "all_gt_values = [[] for _ in range(6)]\n",
    "\n",
    "print(\"Starting training...\")\n",
    "for epoch in range(epochs):\n",
    "    model.train()\n",
    "    epoch_loss = 0\n",
    "    n_batches = 0\n",
    "\n",
    "    # Shuffle training indices\n",
    "    np.random.shuffle(train_idx)\n",
    "    \n",
    "    # Process batches\n",
    "    for start in range(0, len(train_idx), batch_size):\n",
    "        batch_idx = train_idx[start:start + batch_size]\n",
    "        # Create graphs for batch\n",
    "        nodes, edges, edge_weights, tensors = create_graph_data(\n",
    "            features[batch_idx], gradient_directions, 21\n",
    "        )\n",
    "        \n",
    "        # Convert to PyG and process\n",
    "        data_list = convert_to_torch_geometric(nodes, edges, edge_weights, tensors)\n",
    "        batch_data = Batch.from_data_list(data_list).to(device)\n",
    "        \n",
    "        # Training step\n",
    "        optimizer.zero_grad()\n",
    "        pred = model(batch_data.x, batch_data.edge_index, batch_data.edge_attr, batch_data.batch)\n",
    "        y_true = batch_data.y\n",
    "\n",
    "        y_true_norm = normalize_components(y_true)\n",
    "        y_pred_norm = normalize_components(pred)\n",
    "\n",
    "        loss = F.mse_loss(y_pred_norm, y_true_norm)\n",
    "        loss.backward()\n",
    "        optimizer.step()\n",
    "        \n",
    "        epoch_loss += loss.item()\n",
    "        n_batches += 1\n",
    "    \n",
    "    for i in range(6):\n",
    "        all_pred_values[i].extend(pred[:, i].detach().cpu().numpy())\n",
    "        all_gt_values[i].extend(batch_data.y[:, i].cpu().numpy())\n",
    "\n",
    "    if epoch % 1 == 0:  # Print every epoch\n",
    "        # Move entire tensors to CPU once\n",
    "        pred_cpu = pred.detach().cpu().numpy()\n",
    "        gt_cpu = batch_data.y.cpu().numpy()\n",
    "        \n",
    "        print(f\"\\nEpoch {epoch+1} Statistics:\")\n",
    "        # Component-wise prediction stats\n",
    "        print(\"\\nPredictions per component:\")\n",
    "        for i in range(6):\n",
    "            print(f\"Component {i}: min={np.min(pred_cpu[:,i]):.2e}, \"\n",
    "                f\"max={np.max(pred_cpu[:,i]):.2e}, \"\n",
    "                f\"mean={np.mean(pred_cpu[:,i]):.2e}, \"\n",
    "                f\"std={np.std(pred_cpu[:,i]):.2e}\")\n",
    "        \n",
    "        # Component-wise ground truth stats\n",
    "        print(\"\\nGround Truth per component:\")\n",
    "        for i in range(6):\n",
    "            print(f\"Component {i}: min={np.min(gt_cpu[:,i]):.2e}, \"\n",
    "                f\"max={np.max(gt_cpu[:,i]):.2e}, \"\n",
    "                f\"mean={np.mean(gt_cpu[:,i]):.2e}, \"\n",
    "                f\"std={np.std(gt_cpu[:,i]):.2e}\")\n",
    "        \n",
    "        # Relative error per component\n",
    "        print(\"\\nRelative Error per component:\")\n",
    "        for i in range(6):\n",
    "            rel_error = np.mean(np.abs(pred_cpu[:,i] - gt_cpu[:,i]) / \n",
    "                            (np.abs(gt_cpu[:,i]) + 1e-10))\n",
    "            print(f\"Component {i}: {rel_error:.2e}\")\n",
    "    \n",
    "    avg_loss = epoch_loss / n_batches\n",
    "    print(f\"Epoch {epoch+1}/{epochs}, Loss: {avg_loss:.6f}\")\n",
    "    \n",
    "\n",
    "print(\"\\nTraining Values Statistics:\")\n",
    "for i in range(6):\n",
    "    pred_vals = np.array(all_pred_values[i])\n",
    "    gt_vals = np.array(all_gt_values[i])\n",
    "    print(f\"\\nComponent {i}:\")\n",
    "    print(\"Predictions:\")\n",
    "    print(f\"Min: {np.min(pred_vals):.6f}\")\n",
    "    print(f\"Max: {np.max(pred_vals):.6f}\")\n",
    "    print(f\"Mean: {np.mean(pred_vals):.6f}\")\n",
    "    print(f\"1st percentile: {np.percentile(pred_vals, 1):.6f}\")\n",
    "    print(f\"99th percentile: {np.percentile(pred_vals, 99):.6f}\")\n",
    "    print(\"Ground Truth:\")\n",
    "    print(f\"Min: {np.min(gt_vals):.6f}\")\n",
    "    print(f\"Max: {np.max(gt_vals):.6f}\")\n",
    "    print(f\"Mean: {np.mean(gt_vals):.6f}\")\n",
    "    print(f\"1st percentile: {np.percentile(gt_vals, 1):.6f}\")\n",
    "    print(f\"99th percentile: {np.percentile(gt_vals, 99):.6f}\")\n",
    "\n",
    "# Final evaluation on full test set\n",
    "print(\"\\nFinal Evaluation...\")\n",
    "model.eval()\n",
    "test_losses = []\n",
    "all_test_preds = []\n",
    "all_test_gts = []\n",
    "\n",
    "with torch.no_grad():\n",
    "    for start in range(0, len(test_idx), batch_size):\n",
    "        batch_idx = test_idx[start:start + batch_size]\n",
    "        if len(batch_idx) < batch_size:\n",
    "            continue\n",
    "            \n",
    "        nodes, edges, edge_weights, tensors = create_graph_data(\n",
    "            features[batch_idx], gradient_directions, 21\n",
    "        )\n",
    "        data_list = convert_to_torch_geometric(nodes, edges, edge_weights, tensors)\n",
    "        batch_data = Batch.from_data_list(data_list).to(device)\n",
    "        \n",
    "        pred = model(batch_data.x, batch_data.edge_index, batch_data.edge_attr, batch_data.batch)\n",
    "\n",
    "        y_true = batch_data.y\n",
    "\n",
    "        y_true_norm = normalize_components(y_true)\n",
    "        y_pred_norm = normalize_components(pred)\n",
    "\n",
    "        loss = F.mse_loss(y_pred_norm, y_true_norm) * 1e6\n",
    "\n",
    "        pred = pred.cpu()\n",
    "        batch_data = batch_data.cpu()\n",
    "        \n",
    "        test_loss = F.mse_loss(pred, batch_data.y) * 1e6\n",
    "        test_losses.append(test_loss.item())\n",
    "        \n",
    "        # Store predictions and ground truths\n",
    "        all_test_preds.append(pred.detach().numpy())\n",
    "        all_test_gts.append(batch_data.y.numpy())\n",
    "\n",
    "# Combine all batches\n",
    "all_test_preds = np.concatenate(all_test_preds, axis=0)\n",
    "all_test_gts = np.concatenate(all_test_gts, axis=0)\n",
    "\n",
    "# Print overall test loss\n",
    "avg_test_loss = np.mean(test_losses)\n",
    "print(f\"\\nFinal Test Results:\")\n",
    "print(f\"Average test loss: {avg_test_loss:.6f}\")\n",
    "\n",
    "# Component-wise analysis\n",
    "print(\"\\nTest Set Component Analysis:\")\n",
    "for i in range(6):\n",
    "    pred_comp = all_test_preds[:, i]\n",
    "    gt_comp = all_test_gts[:, i]\n",
    "    \n",
    "    # Stats\n",
    "    print(f\"\\nComponent {i}:\")\n",
    "    print(f\"Predictions - min: {np.min(pred_comp):.2e}, max: {np.max(pred_comp):.2e}, \"\n",
    "          f\"mean: {np.mean(pred_comp):.2e}, std: {np.std(pred_comp):.2e}\")\n",
    "    print(f\"Ground Truth - min: {np.min(gt_comp):.2e}, max: {np.max(gt_comp):.2e}, \"\n",
    "          f\"mean: {np.mean(gt_comp):.2e}, std: {np.std(gt_comp):.2e}\")\n",
    "    \n",
    "    # Relative Error\n",
    "    rel_error = np.mean(np.abs(pred_comp - gt_comp) / (np.abs(gt_comp) + 1e-10))\n",
    "    print(f\"Relative Error: {rel_error:.2e}\")\n",
    "\n",
    "\n",
    "# Print some example predictions vs ground truth\n",
    "print(\"\\nExample predictions vs ground truth:\")\n",
    "for i in range(5):\n",
    "    print(f\"\\nSample {i+1}:\")\n",
    "    print(f\"Predicted: {pred[i].numpy()}\")\n",
    "    print(f\"Actual: {batch_data.y[i].numpy()}\")"
   ]
  },
  {
   "cell_type": "code",
   "execution_count": null,
   "metadata": {},
   "outputs": [
    {
     "name": "stdout",
     "output_type": "stream",
     "text": [
      "Original Ground Truth Tensor Analysis:\n",
      "\n",
      "Component-wise statistics:\n",
      "\n",
      "Component 0:\n",
      "Min: 3.34e-10\n",
      "Max: 2.67e-01\n",
      "Mean: 6.67e-04\n",
      "Std: 4.27e-04\n",
      "\n",
      "Component 1:\n",
      "Min: -6.89e-04\n",
      "Max: 7.34e-03\n",
      "Mean: -1.48e-06\n",
      "Std: 8.80e-05\n",
      "\n",
      "Component 2:\n",
      "Min: 3.34e-10\n",
      "Max: 2.72e-01\n",
      "Mean: 6.93e-04\n",
      "Std: 4.32e-04\n",
      "\n",
      "Component 3:\n",
      "Min: -1.66e-02\n",
      "Max: 9.90e-04\n",
      "Mean: 8.52e-08\n",
      "Std: 9.10e-05\n",
      "\n",
      "Component 4:\n",
      "Min: -6.56e-03\n",
      "Max: 7.76e-04\n",
      "Mean: -1.75e-05\n",
      "Std: 9.18e-05\n",
      "\n",
      "Component 5:\n",
      "Min: 3.34e-10\n",
      "Max: 2.74e-01\n",
      "Mean: 6.75e-04\n",
      "Std: 4.36e-04\n"
     ]
    }
   ],
   "source": [
    "print(\"Original Ground Truth Tensor Analysis:\")\n",
    "print(\"\\nComponent-wise statistics:\")\n",
    "for i in range(6):\n",
    "    comp = ground_truth_tensors[:, i]\n",
    "    print(f\"\\nComponent {i}:\")\n",
    "    print(f\"Min: {np.min(comp):.2e}\")\n",
    "    print(f\"Max: {np.max(comp):.2e}\")\n",
    "    print(f\"Mean: {np.mean(comp):.2e}\")\n",
    "    print(f\"Std: {np.std(comp):.2e}\")"
   ]
  }
 ],
 "metadata": {
  "kernelspec": {
   "display_name": "neuro",
   "language": "python",
   "name": "python3"
  },
  "language_info": {
   "codemirror_mode": {
    "name": "ipython",
    "version": 3
   },
   "file_extension": ".py",
   "mimetype": "text/x-python",
   "name": "python",
   "nbconvert_exporter": "python",
   "pygments_lexer": "ipython3",
   "version": "3.12.3"
  }
 },
 "nbformat": 4,
 "nbformat_minor": 2
}
