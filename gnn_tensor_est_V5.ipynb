{
 "cells": [
  {
   "cell_type": "code",
   "execution_count": 4,
   "metadata": {},
   "outputs": [],
   "source": [
    "import numpy as np\n",
    "import nibabel as nib\n",
    "from dipy.io import read_bvals_bvecs\n",
    "from dipy.core.gradients import gradient_table\n",
    "import torch\n",
    "import torch.nn as nn\n",
    "import torch.nn.functional as F\n",
    "from torch_geometric.nn import MessagePassing\n",
    "from torch_geometric.nn import global_mean_pool\n",
    "import torch.optim as optim\n",
    "from torch_geometric.data import Data, Batch\n",
    "from sklearn.model_selection import train_test_split\n",
    "import matplotlib.pyplot as plt"
   ]
  },
  {
   "cell_type": "code",
   "execution_count": 5,
   "metadata": {},
   "outputs": [
    {
     "name": "stdout",
     "output_type": "stream",
     "text": [
      "Using device: cuda\n"
     ]
    }
   ],
   "source": [
    "device = torch.device('cuda' if torch.cuda.is_available() else 'cpu')\n",
    "print(f\"Using device: {device}\")"
   ]
  },
  {
   "cell_type": "code",
   "execution_count": 6,
   "metadata": {},
   "outputs": [],
   "source": [
    "subject_id = \"100206\"\n",
    "subject_path = f\"diffusion_data/{subject_id}/T1w/Diffusion\"\n",
    "dwi_img = nib.load(f'{subject_path}/data.nii.gz')\n",
    "mask_img = nib.load(f'{subject_path}/nodif_brain_mask.nii.gz')"
   ]
  },
  {
   "cell_type": "code",
   "execution_count": 7,
   "metadata": {},
   "outputs": [
    {
     "name": "stdout",
     "output_type": "stream",
     "text": [
      "DWI data shape: (145, 174, 145, 288)\n"
     ]
    }
   ],
   "source": [
    "dwi_data = dwi_img.get_fdata()\n",
    "original_mask = mask_img.get_fdata() > 0\n",
    "\n",
    "print(f\"DWI data shape: {dwi_data.shape}\")  # (X, Y, Z, num_volumes)"
   ]
  },
  {
   "cell_type": "code",
   "execution_count": 8,
   "metadata": {},
   "outputs": [],
   "source": [
    "gt_data = np.load('ground_truth_v2.npz')\n",
    "ground_truth_tensors = gt_data['tensors'] # shape 936256(all voxels) x 6\n",
    "ground_truth_gpu = torch.from_numpy(ground_truth_tensors).to(device)"
   ]
  },
  {
   "cell_type": "code",
   "execution_count": 9,
   "metadata": {},
   "outputs": [],
   "source": [
    "# store original indices before any voxel filtering \n",
    "original_idx = np.where(original_mask)"
   ]
  },
  {
   "cell_type": "code",
   "execution_count": 10,
   "metadata": {},
   "outputs": [
    {
     "data": {
      "text/plain": [
       "(array([ 12,  12,  12, ..., 130, 130, 130], dtype=int64),\n",
       " array([84, 84, 84, ..., 91, 91, 91], dtype=int64),\n",
       " array([55, 56, 57, ..., 45, 46, 47], dtype=int64))"
      ]
     },
     "execution_count": 10,
     "metadata": {},
     "output_type": "execute_result"
    }
   ],
   "source": [
    "original_idx"
   ]
  },
  {
   "cell_type": "code",
   "execution_count": 11,
   "metadata": {},
   "outputs": [],
   "source": [
    "# Map (x,y,z) to original linear index\n",
    "coord_to_gtt = {}\n",
    "for i in range(len(original_idx[0])):\n",
    "    x, y, z = original_idx[0][i], original_idx[1][i], original_idx[2][i]\n",
    "    coord_to_gtt[(x,y,z)] = i  # i is the index in ground_truth_tensors"
   ]
  },
  {
   "cell_type": "code",
   "execution_count": 12,
   "metadata": {},
   "outputs": [
    {
     "name": "stdout",
     "output_type": "stream",
     "text": [
      "B0 data shape: (145, 174, 145, 18)\n",
      "Number of b=1000 volumes: 90\n",
      "DWI volumes shape: (145, 174, 145, 90)\n"
     ]
    }
   ],
   "source": [
    "bvals, bvecs = read_bvals_bvecs(f'{subject_path}/bvals', \n",
    "                               f'{subject_path}/bvecs')\n",
    "gtab = gradient_table(bvals, bvecs)\n",
    "\n",
    "# get b0 data and b0_avg\n",
    "b0_mask = gtab.b0s_mask\n",
    "b0_data = dwi_data[..., b0_mask]\n",
    "print(f\"B0 data shape: {b0_data.shape}\")\n",
    "b0_avg = np.mean(b0_data, axis=-1)\n",
    "\n",
    "# b1000 images mask\n",
    "b1000_mask = (bvals >= 990) & (bvals <= 1010)\n",
    "print(f\"Number of b=1000 volumes: {np.sum(b1000_mask)}\")\n",
    "\n",
    "# Get all b1000 scans\n",
    "dwi_vols = dwi_data[..., b1000_mask]\n",
    "print(f\"DWI volumes shape: {dwi_vols.shape}\")"
   ]
  },
  {
   "cell_type": "code",
   "execution_count": 13,
   "metadata": {},
   "outputs": [],
   "source": [
    "# mask out voxels with very low b0 signal\n",
    "b0_threshold = 250\n",
    "valid_b0_mask = b0_avg > b0_threshold\n",
    "mask = original_mask & valid_b0_mask  # Combine with brain mask"
   ]
  },
  {
   "cell_type": "code",
   "execution_count": 14,
   "metadata": {},
   "outputs": [
    {
     "name": "stdout",
     "output_type": "stream",
     "text": [
      "\n",
      "Number of valid voxels in mask: 926671\n"
     ]
    }
   ],
   "source": [
    "# Find valid voxels using the brain mask\n",
    "valid_idx = np.where(mask) # shape: 3 x num_valid_voxels\n",
    "print(f\"\\nNumber of valid voxels in mask: {len(valid_idx[0])}\")"
   ]
  },
  {
   "cell_type": "code",
   "execution_count": 15,
   "metadata": {},
   "outputs": [],
   "source": [
    "# Sample n random voxels for training\n",
    "n_samples = 150000\n",
    "sample_idx = np.random.choice(len(valid_idx[0]), \n",
    "                            min(n_samples, len(valid_idx[0])), \n",
    "                            replace=False)"
   ]
  },
  {
   "cell_type": "code",
   "execution_count": 16,
   "metadata": {},
   "outputs": [],
   "source": [
    "# Extract features (signal intensities) from sampled voxels. 90 image signals per voxel\n",
    "features = []\n",
    "gtt_indices = [] # store ground truth tensor indices. gtt_indices[i] gives index of feature[i] in original number of voxels (93XXXX)\n",
    "\n",
    "for idx in sample_idx:\n",
    "    x, y, z = valid_idx[0][idx], valid_idx[1][idx], valid_idx[2][idx]\n",
    "    signal = dwi_vols[x, y, z, :]\n",
    "    b0_ref = b0_avg[x, y, z]\n",
    "    normalized_signal = signal / (b0_ref)\n",
    "    features.append(normalized_signal)\n",
    "    gtt_indices.append(coord_to_gtt[(x, y, z)])\n",
    "\n",
    "# gtt_indices shape = num_voxel_samples x 1\n",
    "# features shape = num_voxel_samples x 90 x 1\n"
   ]
  },
  {
   "cell_type": "code",
   "execution_count": 17,
   "metadata": {},
   "outputs": [],
   "source": [
    "features = np.array(features)\n",
    "gtt_indices = np.array(gtt_indices)\n",
    "features_gpu = torch.from_numpy(features).to(device)\n",
    "gtt_indices_gpu = torch.from_numpy(gtt_indices).to(device)\n",
    "gradient_directions = bvecs[b1000_mask]  # Only keep directions for DWI volumes, shape = 90 x 3"
   ]
  },
  {
   "cell_type": "code",
   "execution_count": 18,
   "metadata": {},
   "outputs": [],
   "source": [
    "def select_diverse_directions(all_directions, n_select=21):\n",
    "    \"\"\"\" Get n random directions with high coverage \"\"\"\n",
    "    \n",
    "    selected = [0]  # Start with first direction\n",
    "    while len(selected) < n_select:\n",
    "        # Calculate angles with all selected directions\n",
    "        angles = []\n",
    "        for i in range(len(all_directions)):\n",
    "            if i in selected:\n",
    "                continue\n",
    "            min_angle = float('inf')\n",
    "            for s in selected:\n",
    "                # Cosine similarity\n",
    "                angle = np.arccos(np.clip(\n",
    "                    np.dot(all_directions[i], all_directions[s]), -1.0, 1.0))\n",
    "                min_angle = min(min_angle, angle)\n",
    "            angles.append((i, min_angle))\n",
    "        # Select direction with largest minimum angle\n",
    "        next_idx = max(angles, key=lambda x: x[1])[0]\n",
    "        selected.append(next_idx)\n",
    "    return selected"
   ]
  },
  {
   "cell_type": "code",
   "execution_count": 19,
   "metadata": {},
   "outputs": [],
   "source": [
    "def initialize_direction_sets(all_directions, n_sets=3, n_directions=21):\n",
    "    \"\"\" Create sets of sparse directions \"\"\"\n",
    "    base_sets = []\n",
    "    n_total = len(all_directions)\n",
    "    \n",
    "    for i in range(n_sets):\n",
    "        # Create a shuffled index array for this set\n",
    "        shuffled_indices = np.random.permutation(n_total)\n",
    "        # Use select_diverse_directions on the shuffled indices\n",
    "        selected = select_diverse_directions(all_directions[shuffled_indices], n_directions)\n",
    "        # Map back to original indices\n",
    "        original_indices = shuffled_indices[selected]\n",
    "        base_sets.append(original_indices)\n",
    "    \n",
    "    return base_sets"
   ]
  },
  {
   "cell_type": "code",
   "execution_count": 20,
   "metadata": {},
   "outputs": [],
   "source": [
    "class DiffusionGNN(torch.nn.Module):\n",
    "    def __init__(self, node_features = 4, hidden_dim = 128):\n",
    "        super(DiffusionGNN, self).__init__()\n",
    "    \n",
    "        # Layers\n",
    "        self.conv1 = DiffusionConv(node_features, hidden_dim)\n",
    "        self.conv2 = DiffusionConv(hidden_dim, hidden_dim)\n",
    "\n",
    "        # MLP for tensor prediction\n",
    "        self.mlp = nn.Sequential(\n",
    "            nn.Linear(hidden_dim, hidden_dim),\n",
    "            nn.ReLU(),\n",
    "            nn.Linear(hidden_dim, hidden_dim),\n",
    "            nn.ReLU(),\n",
    "            nn.Linear(hidden_dim, 6),\n",
    "        )\n",
    "\n",
    "        self.register_buffer('loss_weights',\n",
    "            torch.tensor([10, 1000, 10, 1000, 1000, 10]))\n",
    "\n",
    "    \n",
    "    def forward(self, x, edge_index, edge_attr, batch):\n",
    "        \"\"\"\n",
    "        x: node_features\n",
    "        edge_index = graph conn info [2, num_edges]\n",
    "        batch: batch assignment for nodes\n",
    "        \"\"\"\n",
    "        # print(\"pre conv\", x.shape)\n",
    "        # x shape = 672 (batch_size*num_directions) x 4\n",
    "        x = self.conv1(x, edge_index, edge_attr)\n",
    "        x = F.relu(x)\n",
    "        x = self.conv2(x, edge_index, edge_attr)\n",
    "        x = F.relu(x)\n",
    "        # x shape = 672 x hidden_dim(64)\n",
    "        # print(\"after conv\", x.shape)\n",
    "\n",
    "        # combine node features for graph\n",
    "        x = global_mean_pool(x, batch)  # [batch_size, hidden_dim]. 1 representation for each voxel/graph\n",
    "        # print(\"after pool\", x.shape)\n",
    "\n",
    "        # raw predictions\n",
    "        out = self.mlp(x) # shape = 32 x 6\n",
    "\n",
    "        diag_idx = [0, 2, 5]\n",
    "        offdiag_idx = [1, 3, 4]\n",
    "\n",
    "        # Diagonal elements: [0,1] using sigmoid\n",
    "        diag = torch.sigmoid(out[:, diag_idx])\n",
    "        \n",
    "        # Off-diagonal elements: [-1,1] using tanh\n",
    "        offdiag = torch.tanh(out[:, offdiag_idx])\n",
    "\n",
    "        out_reordered = torch.zeros_like(out)\n",
    "        out_reordered[:, diag_idx] = diag\n",
    "        out_reordered[:, offdiag_idx] = offdiag\n",
    "\n",
    "        return out_reordered # shape = 32 x 6\n",
    "    \n",
    "    def weighted_mse_loss(self, pred, target):\n",
    "        squared_diff = (pred - target) ** 2  # [batch_size, 6]\n",
    "        weighted_diff = squared_diff * self.loss_weights\n",
    "        return torch.mean(weighted_diff)\n",
    "\n",
    "\n",
    "class DiffusionConv(MessagePassing):\n",
    "    def __init__(self, in_channels, out_channels):\n",
    "        super(DiffusionConv, self).__init__(aggr=\"mean\")\n",
    "        \n",
    "        # MLP to process messages\n",
    "        self.mlp = nn.Sequential(\n",
    "            nn.Linear(2 * in_channels, out_channels),\n",
    "            nn.ReLU(),\n",
    "            nn.Linear(out_channels, out_channels)\n",
    "        )\n",
    "    \n",
    "    def forward(self, x, edge_index, edge_weight):\n",
    "        return self.propagate(edge_index, x=x, edge_weight = edge_weight)\n",
    "    \n",
    "    def message(self, x_i, x_j, edge_weight):\n",
    "        \"\"\"\n",
    "        x_i: features of target nodes\n",
    "        x_j: features of source nodes\n",
    "        Returns: messages to be aggregated\n",
    "        \"\"\"\n",
    "        tmp = torch.cat([x_i, x_j], dim = 1)\n",
    "        return self.mlp(tmp) * edge_weight.view(-1,1)"
   ]
  },
  {
   "cell_type": "code",
   "execution_count": 21,
   "metadata": {},
   "outputs": [],
   "source": [
    "def convert_to_torch_geometric(nodes, edges, edge_weights, tensors):\n",
    "    \"\"\" convert graph to geometric object\"\"\"\n",
    "    data_list = []\n",
    "    device = nodes.device\n",
    "    \n",
    "    for i in range(len(nodes)):\n",
    "        tensor = tensors[i].reshape(-1, 6) if len(tensors[i].shape) == 1 else tensors[i]\n",
    "        data = Data(\n",
    "            x=nodes[i],\n",
    "            edge_index = edges[i].clone().detach().to(dtype=torch.long, device=device).T,\n",
    "            edge_attr=edge_weights[i].clone().detach().to(dtype=torch.float, device=device),\n",
    "            y=tensor\n",
    "        )\n",
    "        data_list.append(data)\n",
    "    \n",
    "    return data_list"
   ]
  },
  {
   "cell_type": "code",
   "execution_count": 22,
   "metadata": {},
   "outputs": [
    {
     "name": "stdout",
     "output_type": "stream",
     "text": [
      "Training with 120000 voxels, testing with 30000 voxels\n"
     ]
    }
   ],
   "source": [
    "train_idx, test_idx = train_test_split(np.arange(len(features)), test_size=0.2, random_state=42)\n",
    "print(f\"Training with {len(train_idx)} voxels, testing with {len(test_idx)} voxels\")"
   ]
  },
  {
   "cell_type": "code",
   "execution_count": 23,
   "metadata": {},
   "outputs": [],
   "source": [
    "def calculate_MD(tensor):\n",
    "    \"\"\"Calculate Mean Diffusivity: (Dxx + Dyy + Dzz)/3\"\"\"\n",
    "    return np.mean(tensor[:,[0,2,5]], axis=1)\n",
    "\n",
    "def calculate_FA_approx(tensor):\n",
    "    \"\"\"Calculate Fractional Anisotropy using characteristic equation approximation\"\"\"\n",
    "\n",
    "    Dxx, Dxy, Dyy, Dxz, Dyz, Dzz = [tensor[:,i] for i in range(6)]\n",
    "    md = calculate_MD(tensor)\n",
    "    \n",
    "    var_terms = ((Dxx - md)**2 + (Dyy - md)**2 + (Dzz - md)**2 + 6 * (Dxy**2 + Dxz**2 + Dyz**2)) / 3\n",
    "    tensor_norm = Dxx**2 + Dyy**2 + Dzz**2 + 2*(Dxy**2 + Dxz**2 + Dyz**2)\n",
    "\n",
    "    fa = np.sqrt(3 * var_terms / (2 * (tensor_norm + 1e-10)))\n",
    "    return fa"
   ]
  },
  {
   "cell_type": "code",
   "execution_count": 24,
   "metadata": {},
   "outputs": [],
   "source": [
    "def evaluate_model(pred, gt, epoch, print_results=True):\n",
    "    \"\"\"\n",
    "    Compute and optionally print evaluation metrics\n",
    "    Args:\n",
    "        pred: predictions array (n_samples x 6)\n",
    "        gt: ground truth array (n_samples x 6)\n",
    "        epoch: current epoch number\n",
    "        print_results: whether to print metrics\n",
    "    Returns:\n",
    "        Dictionary of metrics\n",
    "    \"\"\"\n",
    "    metrics = {}\n",
    "    metrics['epoch'] = epoch\n",
    "    \n",
    "    # Component-wise statistics and relative errors\n",
    "    for i in range(6):\n",
    "        # Relative error\n",
    "        rel_error = np.mean(np.abs(pred[:,i] - gt[:,i]) / (np.abs(gt[:,i]) + 1e-10))\n",
    "        metrics[f'rel_error_{i}'] = rel_error\n",
    "        \n",
    "        # Statistics for monitoring distribution\n",
    "        metrics[f'pred_mean_{i}'] = np.mean(pred[:,i])\n",
    "        metrics[f'pred_std_{i}'] = np.std(pred[:,i])\n",
    "        metrics[f'gt_mean_{i}'] = np.mean(gt[:,i])\n",
    "        metrics[f'gt_std_{i}'] = np.std(gt[:,i])\n",
    "    \n",
    "    # Mean Diffusivity error\n",
    "    pred_md = calculate_MD(pred)\n",
    "    gt_md = calculate_MD(gt)\n",
    "    metrics['md_error'] = np.mean(np.abs(pred_md - gt_md))\n",
    "\n",
    "    # FA absolute error\n",
    "    pred_fa = calculate_FA_approx(pred)\n",
    "    gt_fa = calculate_FA_approx(gt)\n",
    "    metrics['fa_error'] = np.mean(np.abs(pred_fa - gt_fa))\n",
    "\n",
    "    if print_results:\n",
    "        print(f\"\\nEpoch {epoch+1} Statistics:\")\n",
    "        print(\"\\nRelative Errors per component:\")\n",
    "        for i in range(6):\n",
    "            print(f\"Component {i}: {metrics[f'rel_error_{i}']:.2e}\")\n",
    "        print(f\"Mean Diffusivity Absolute Error: {metrics['md_error']:.2e}\")\n",
    "        print(f\"FA Absolute Error: {metrics['fa_error']:.2e}\")\n",
    "        \n",
    "        print(\"\\nPrediction Statistics:\")\n",
    "        for i in range(6):\n",
    "            print(f\"Component {i}: mean={metrics[f'pred_mean_{i}']:.2e}, std={metrics[f'pred_std_{i}']:.2e}\")\n",
    "        \n",
    "        print(\"\\nGround Truth Statistics:\")\n",
    "        for i in range(6):\n",
    "            print(f\"Component {i}: mean={metrics[f'gt_mean_{i}']:.2e}, std={metrics[f'gt_std_{i}']:.2e}\")\n",
    "    \n",
    "    return metrics"
   ]
  },
  {
   "cell_type": "code",
   "execution_count": null,
   "metadata": {},
   "outputs": [],
   "source": [
    "def precompute_direction_structures(direction_indices, threshold_angle=60):\n",
    "    \"\"\"\n",
    "    Precompute direction-based graph structures that remain constant across batches.\n",
    "    \"\"\"\n",
    "    current_directions = gradient_directions[direction_indices]  # Shape (21, 3)\n",
    "    directions_norm = current_directions / np.linalg.norm(current_directions, axis=1, keepdims=True)\n",
    "    \n",
    "    cos_sim = np.dot(directions_norm, directions_norm.T)\n",
    "    angles = np.arccos(np.clip(cos_sim, -1.0, 1.0)) * 180/np.pi\n",
    "    src, dst = np.where(angles < threshold_angle)\n",
    "    mask = src != dst\n",
    "    \n",
    "    return {\n",
    "        'edge_template': np.column_stack([src[mask], dst[mask]]),\n",
    "        'edge_weights': cos_sim[src[mask], dst[mask]],\n",
    "        'directions': current_directions,\n",
    "        'direction_indices': direction_indices\n",
    "    }\n",
    "\n",
    "\n",
    "def create_batch_data(batch_indices, direction_structures, features_gpu, ground_truth_gpu):\n",
    "    \"\"\"\n",
    "    Create graph data for a batch using GPU tensors.\n",
    "    \n",
    "    Args:\n",
    "        batch_indices: array of indices for this batch, shape (batch_size,)\n",
    "        direction_structures: dict of precomputed direction structures\n",
    "        features_gpu: GPU tensor of all features, shape (n_samples, 90)\n",
    "        ground_truth_gpu: GPU tensor of ground truth, shape (n_samples, 6)\n",
    "    \n",
    "    Returns:\n",
    "        batch_nodes: [batch_size, n_directions, 4] node features (GPU)\n",
    "        batch_edges: list of [E, 2] edge indices for each graph\n",
    "        batch_edge_weights: list of [E] edge weights for each graph\n",
    "        batch_tensors: [batch_size, 6] ground truth tensors (GPU)\n",
    "    \"\"\"\n",
    "    n_directions = direction_structures['directions'].shape[0]  # Should be 21\n",
    "    \n",
    "    # Convert batch_indices to GPU tensor if not already\n",
    "    if not isinstance(batch_indices, torch.Tensor):\n",
    "        batch_indices = torch.tensor(batch_indices, device=features_gpu.device)\n",
    "    \n",
    "    # Get batch of signals and select directions\n",
    "    # features_gpu shape: (n_samples, 90)\n",
    "    # batch_features shape: (batch_size, 90)\n",
    "    batch_features = features_gpu[batch_indices]\n",
    "    \n",
    "    # Select specific directions\n",
    "    # direction_indices shape: (21,)\n",
    "    \n",
    "    direction_indices = torch.tensor(direction_structures['direction_indices'], \n",
    "                               device=features_gpu.device)\n",
    "    \n",
    "    # batch_signals shape: (batch_size, 21)\n",
    "    batch_signals = batch_features[:, direction_indices]\n",
    "    \n",
    "    # Create node features on GPU\n",
    "    # batch_nodes shape: (batch_size, n_directions, 4)\n",
    "    batch_nodes = torch.zeros((batch_indices.shape[0], n_directions, 4), \n",
    "                            device=features_gpu.device)\n",
    "    batch_nodes[..., 0] = batch_signals\n",
    "    batch_nodes[..., 1:4] = direction_structures['directions'].unsqueeze(0)\n",
    "    \n",
    "    # Edge structures (already on GPU from direction_structures_gpu)\n",
    "    batch_edges = [direction_structures['edge_template'] \n",
    "                  for _ in range(batch_indices.shape[0])]\n",
    "    batch_edge_weights = [direction_structures['edge_weights'] \n",
    "                         for _ in range(batch_indices.shape[0])]\n",
    "    \n",
    "    # Get ground truth tensors directly from GPU tensor\n",
    "    # gtt_indices maps from batch_indices to ground truth indices\n",
    "    # batch_tensors shape: (batch_size, 6)\n",
    "    batch_tensors = ground_truth_gpu[gtt_indices_gpu[batch_indices]]\n",
    "\n",
    "    return batch_nodes, batch_edges, batch_edge_weights, batch_tensors"
   ]
  },
  {
   "cell_type": "code",
   "execution_count": 26,
   "metadata": {},
   "outputs": [],
   "source": [
    "n_sets = 3\n",
    "direction_sets = initialize_direction_sets(gradient_directions, n_sets)\n",
    "direction_structures = {}\n",
    "for set_idx, direction_set in enumerate(direction_sets):\n",
    "    direction_structures[set_idx] = precompute_direction_structures(direction_set)\n",
    "batch_size = 32\n"
   ]
  },
  {
   "cell_type": "code",
   "execution_count": 27,
   "metadata": {},
   "outputs": [],
   "source": [
    "# Convert direction structures once\n",
    "direction_structures_gpu = {}\n",
    "for idx, struct in direction_structures.items():\n",
    "    direction_structures_gpu[idx] = {\n",
    "        'edge_template': torch.from_numpy(struct['edge_template']).to(device),\n",
    "        'edge_weights': torch.from_numpy(struct['edge_weights']).to(device),\n",
    "        'directions': torch.from_numpy(struct['directions']).to(device),\n",
    "        'direction_indices': struct['direction_indices']\n",
    "    }\n"
   ]
  },
  {
   "cell_type": "code",
   "execution_count": 28,
   "metadata": {},
   "outputs": [
    {
     "name": "stdout",
     "output_type": "stream",
     "text": [
      "Starting training...\n",
      "\n",
      "xxxxxxxxxxxxxxxxxxxxxxxxxxxxxxxxxxxxxx\n",
      "Epoch 1/5, Loss: 22676.251299\n",
      "\n",
      "Epoch 1 Statistics:\n",
      "\n",
      "Relative Errors per component:\n",
      "Component 0: 9.02e+03\n",
      "Component 1: 2.51e+04\n",
      "Component 2: 7.90e+03\n",
      "Component 3: 2.29e+04\n",
      "Component 4: 1.79e+04\n",
      "Component 5: 6.95e+03\n",
      "Mean Diffusivity Absolute Error: 1.47e-02\n",
      "FA Absolute Error: 1.91e-01\n",
      "\n",
      "Prediction Statistics:\n",
      "Component 0: mean=1.74e-02, std=6.48e-02\n",
      "Component 1: mean=7.90e-06, std=1.83e-03\n",
      "Component 2: mean=1.55e-02, std=6.03e-02\n",
      "Component 3: mean=3.01e-05, std=2.61e-03\n",
      "Component 4: mean=-4.08e-06, std=1.95e-03\n",
      "Component 5: mean=1.41e-02, std=6.10e-02\n",
      "\n",
      "Ground Truth Statistics:\n",
      "Component 0: mean=9.89e-04, std=5.51e-04\n",
      "Component 1: mean=-9.43e-07, std=1.14e-04\n",
      "Component 2: mean=1.03e-03, std=5.57e-04\n",
      "Component 3: mean=3.18e-06, std=1.16e-04\n",
      "Component 4: mean=-2.29e-05, std=1.19e-04\n",
      "Component 5: mean=1.00e-03, std=5.64e-04\n",
      "\n",
      "xxxxxxxxxxxxxxxxxxxxxxxxxxxxxxxxxxxxxx\n",
      "Epoch 2/5, Loss: 320.276754\n",
      "\n",
      "xxxxxxxxxxxxxxxxxxxxxxxxxxxxxxxxxxxxxx\n",
      "Epoch 3/5, Loss: 140.094203\n",
      "\n",
      "xxxxxxxxxxxxxxxxxxxxxxxxxxxxxxxxxxxxxx\n",
      "Epoch 4/5, Loss: 67.156741\n",
      "\n",
      "xxxxxxxxxxxxxxxxxxxxxxxxxxxxxxxxxxxxxx\n",
      "Epoch 5/5, Loss: 32.276068\n"
     ]
    }
   ],
   "source": [
    "# Training\n",
    "model = DiffusionGNN(hidden_dim=128).to(device)\n",
    "optimizer = optim.Adam(model.parameters(), lr=0.0005)\n",
    "epochs = 5\n",
    "losses = []\n",
    "all_metrics = []\n",
    "print(\"Starting training...\")\n",
    "for epoch in range(epochs):\n",
    "    # Select direction set for this epoch\n",
    "    direction_set_idx = epoch % len(direction_sets)\n",
    "    current_structures = direction_structures_gpu[direction_set_idx]\n",
    "    model.train()\n",
    "    epoch_loss = 0\n",
    "    n_batches = 0\n",
    "    \n",
    "    # Store epoch predictions and ground truth\n",
    "    epoch_pred_values = []\n",
    "    epoch_gt_values = []\n",
    "    \n",
    "    # Shuffle training indices\n",
    "    np.random.shuffle(train_idx)\n",
    "    \n",
    "    # Process batches\n",
    "    for start in range(0, len(train_idx), batch_size):\n",
    "        batch_indices = train_idx[start:start + batch_size]\n",
    "        \n",
    "        # Create graph data using precomputed structures\n",
    "        nodes, edges, edge_weights, tensors = create_batch_data(\n",
    "            batch_indices,\n",
    "            current_structures,\n",
    "            features_gpu,\n",
    "            ground_truth_gpu\n",
    "        )\n",
    "\n",
    "        data_list = convert_to_torch_geometric(nodes, edges, edge_weights, tensors)\n",
    "        batch_data = Batch.from_data_list(data_list).to(device)\n",
    "        \n",
    "        # Training step\n",
    "        optimizer.zero_grad()\n",
    "        pred = model(batch_data.x, batch_data.edge_index, batch_data.edge_attr, batch_data.batch)\n",
    "        loss = model.weighted_mse_loss(pred, batch_data.y) * 1e6\n",
    "        loss.backward()\n",
    "        optimizer.step()\n",
    "        \n",
    "        # Store batch results\n",
    "        epoch_loss += loss.item()\n",
    "        epoch_pred_values.append(pred.detach().cpu().numpy())\n",
    "        epoch_gt_values.append(batch_data.y.cpu().numpy())\n",
    "        n_batches += 1\n",
    "    \n",
    "    # Combine all batches\n",
    "    epoch_pred = np.concatenate(epoch_pred_values, axis=0)\n",
    "    epoch_gt = np.concatenate(epoch_gt_values, axis=0)\n",
    "    \n",
    "    # Print epoch results\n",
    "    avg_loss = epoch_loss / n_batches\n",
    "    losses.append(avg_loss)\n",
    "    print(\"\\nxxxxxxxxxxxxxxxxxxxxxxxxxxxxxxxxxxxxxx\")\n",
    "    print(f\"Epoch {epoch+1}/{epochs}, Loss: {avg_loss:.6f}\")\n",
    "    \n",
    "    # Evaluate epoch performance\n",
    "    if epoch % 5 == 0:\n",
    "        metrics = evaluate_model(epoch_pred, epoch_gt, epoch)\n",
    "        all_metrics.append(metrics)\n",
    "    "
   ]
  },
  {
   "cell_type": "code",
   "execution_count": 29,
   "metadata": {},
   "outputs": [
    {
     "data": {
      "image/png": "[encoded data removed]",
      "text/plain": [
       "<Figure size 1000x600 with 1 Axes>"
      ]
     },
     "metadata": {},
     "output_type": "display_data"
    }
   ],
   "source": [
    "plt.figure(figsize=(10, 6))\n",
    "plt.semilogy(range(1, len(losses) + 1), losses)  # Using log scale for y-axis\n",
    "plt.xlabel('Epoch')\n",
    "plt.ylabel('Loss (log scale)')\n",
    "plt.title('Training Loss Over Time')\n",
    "plt.grid(True)\n",
    "plt.show()"
   ]
  },
  {
   "cell_type": "code",
   "execution_count": null,
   "metadata": {},
   "outputs": [
    {
     "data": {
      "image/png": "[encoded data removed]",
      "text/plain": [
       "<Figure size 1000x600 with 1 Axes>"
      ]
     },
     "metadata": {},
     "output_type": "display_data"
    },
    {
     "data": {
      "image/png": "[encoded data removed]",
      "text/plain": [
       "<Figure size 1000x600 with 1 Axes>"
      ]
     },
     "metadata": {},
     "output_type": "display_data"
    }
   ],
   "source": [
    "# Plot FA error\n",
    "plt.figure(figsize=(10, 6))\n",
    "plt.plot([m['epoch'] for m in all_metrics], [m['fa_error'] for m in all_metrics])\n",
    "plt.xlabel('Epoch')\n",
    "plt.ylabel('FA Error')\n",
    "plt.title('FA Error Over Time')\n",
    "plt.grid(True)\n",
    "plt.show()\n",
    "\n",
    "# Plot MD error\n",
    "plt.figure(figsize=(10, 6))\n",
    "plt.plot([m['epoch'] for m in all_metrics], [m['md_error'] for m in all_metrics])\n",
    "plt.xlabel('Epoch')\n",
    "plt.ylabel('MD Error')\n",
    "plt.title('MD Error Over Time')\n",
    "plt.grid(True)\n",
    "plt.show()"
   ]
  },
  {
   "cell_type": "code",
   "execution_count": 31,
   "metadata": {},
   "outputs": [
    {
     "name": "stdout",
     "output_type": "stream",
     "text": [
      "\n",
      "Starting Final Evaluation...\n",
      "\n",
      "Final Test Results:\n",
      "Average test loss: 16.376037\n",
      "\n",
      "Epoch -1 Statistics:\n",
      "\n",
      "Relative Errors per component:\n",
      "Component 0: 7.55e+02\n",
      "Component 1: 6.53e+02\n",
      "Component 2: 7.55e+02\n",
      "Component 3: 2.98e+03\n",
      "Component 4: 2.42e+03\n",
      "Component 5: 7.17e+02\n",
      "Mean Diffusivity Absolute Error: 3.07e-04\n",
      "FA Absolute Error: 1.15e-01\n",
      "\n",
      "Prediction Statistics:\n",
      "Component 0: mean=1.28e-03, std=3.79e-04\n",
      "Component 1: mean=-8.09e-05, std=8.00e-05\n",
      "Component 2: mean=1.28e-03, std=3.81e-04\n",
      "Component 3: mean=-1.96e-04, std=1.02e-04\n",
      "Component 4: mean=1.63e-04, std=8.52e-05\n",
      "Component 5: mean=1.26e-03, std=3.88e-04\n",
      "\n",
      "Ground Truth Statistics:\n",
      "Component 0: mean=9.85e-04, std=5.42e-04\n",
      "Component 1: mean=-1.90e-07, std=1.14e-04\n",
      "Component 2: mean=1.02e-03, std=5.50e-04\n",
      "Component 3: mean=3.98e-06, std=1.16e-04\n",
      "Component 4: mean=-2.26e-05, std=1.20e-04\n",
      "Component 5: mean=9.99e-04, std=5.56e-04\n",
      "\n",
      "Example predictions vs ground truth (randomly sampled):\n",
      "\n",
      "Sample 1:\n",
      "Predicted: [ 9.8620460e-04 -9.2200935e-07  9.8313228e-04 -3.0171312e-04\n",
      "  1.0214886e-04  9.5270138e-04]\n",
      "Actual:    [ 6.02140162e-04  1.08216668e-04  6.71713318e-04 -3.53132449e-05\n",
      " -9.22555320e-05  6.27788113e-04]\n",
      "\n",
      "Sample 2:\n",
      "Predicted: [ 1.0284244e-03 -4.6148148e-04  1.0251484e-03  6.3564628e-05\n",
      "  7.5264834e-06  9.9485274e-04]\n",
      "Actual:    [ 0.00140433 -0.00057937  0.00051046  0.00054142 -0.00027432  0.00046582]\n",
      "\n",
      "Sample 3:\n",
      "Predicted: [ 0.00098204 -0.00022531  0.00097885 -0.0001722   0.0001356   0.00094839]\n",
      "Actual:    [ 7.99336378e-04 -1.66510016e-04  4.84493668e-04  2.79508370e-05\n",
      " -8.91986062e-05  6.37690327e-04]\n",
      "\n",
      "Sample 4:\n",
      "Predicted: [ 1.3192182e-03 -7.6787546e-05  1.3170857e-03 -2.8649718e-04\n",
      "  2.1687290e-04  1.2896385e-03]\n",
      "Actual:    [ 1.05067900e-03 -3.19980603e-05  1.09531931e-03 -5.12115880e-05\n",
      "  6.64372465e-05  1.03644624e-03]\n",
      "\n",
      "Sample 5:\n",
      "Predicted: [ 0.00201492 -0.00010686  0.00201618 -0.00012388  0.00017011  0.0020031 ]\n",
      "Actual:    [ 1.87718784e-03  4.08006024e-05  1.73965743e-03 -8.67687085e-05\n",
      " -5.00798224e-05  1.87336149e-03]\n"
     ]
    }
   ],
   "source": [
    "print(\"\\nStarting Final Evaluation...\")\n",
    "model.eval()\n",
    "test_losses = []\n",
    "test_preds = []\n",
    "test_gts = []\n",
    "\n",
    "with torch.no_grad():\n",
    "    # Process all batches, including last partial batch\n",
    "    for start in range(0, len(test_idx), batch_size):\n",
    "        end = min(start + batch_size, len(test_idx))\n",
    "        batch_indices = test_idx[start:end]\n",
    "        \n",
    "        # Create graph data using precomputed structures\n",
    "        nodes, edges, edge_weights, tensors = create_batch_data(\n",
    "            batch_indices,\n",
    "            direction_structures_gpu[direction_set_idx],\n",
    "            features_gpu,\n",
    "            ground_truth_gpu\n",
    "        )\n",
    "\n",
    "        data_list = convert_to_torch_geometric(nodes, edges, edge_weights, tensors)\n",
    "        batch_data = Batch.from_data_list(data_list).to(device)\n",
    "        \n",
    "        # Get predictions\n",
    "        pred = model(batch_data.x, batch_data.edge_index, batch_data.edge_attr, batch_data.batch)\n",
    "        \n",
    "        # Calculate loss\n",
    "        test_loss = model.weighted_mse_loss(pred, batch_data.y) * 1e6\n",
    "        test_losses.append(test_loss.item())\n",
    "        \n",
    "        # Store predictions and ground truth\n",
    "        test_preds.append(pred.cpu().numpy())\n",
    "        test_gts.append(batch_data.y.cpu().numpy())\n",
    "\n",
    "# Combine results\n",
    "all_test_preds = np.concatenate(test_preds, axis=0)\n",
    "all_test_gts = np.concatenate(test_gts, axis=0)\n",
    "avg_test_loss = np.mean(test_losses)\n",
    "\n",
    "print(f\"\\nFinal Test Results:\")\n",
    "print(f\"Average test loss: {avg_test_loss:.6f}\")\n",
    "\n",
    "# Use same evaluation function as training\n",
    "metrics = evaluate_model(all_test_preds, all_test_gts, epoch=-2)\n",
    "\n",
    "# Print random examples from full test set\n",
    "print(\"\\nExample predictions vs ground truth (randomly sampled):\")\n",
    "n_examples = 5\n",
    "rand_indices = np.random.choice(len(all_test_preds), n_examples, replace=False)\n",
    "for i, idx in enumerate(rand_indices):\n",
    "    print(f\"\\nSample {i+1}:\")\n",
    "    print(f\"Predicted: {all_test_preds[idx]}\")\n",
    "    print(f\"Actual:    {all_test_gts[idx]}\")"
   ]
  }
 ],
 "metadata": {
  "kernelspec": {
   "display_name": "neuro",
   "language": "python",
   "name": "python3"
  },
  "language_info": {
   "codemirror_mode": {
    "name": "ipython",
    "version": 3
   },
   "file_extension": ".py",
   "mimetype": "text/x-python",
   "name": "python",
   "nbconvert_exporter": "python",
   "pygments_lexer": "ipython3",
   "version": "3.12.3"
  }
 },
 "nbformat": 4,
 "nbformat_minor": 2
}
